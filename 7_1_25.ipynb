{
  "nbformat": 4,
  "nbformat_minor": 0,
  "metadata": {
    "colab": {
      "provenance": []
    },
    "kernelspec": {
      "name": "python3",
      "display_name": "Python 3"
    },
    "language_info": {
      "name": "python"
    }
  },
  "cells": [
    {
      "cell_type": "code",
      "source": [
        "print(dir(str))"
      ],
      "metadata": {
        "id": "4OZ4OOK3yM9h",
        "colab": {
          "base_uri": "https://localhost:8080/"
        },
        "outputId": "04d9e35d-72a4-45b8-b72e-06f58418e76b"
      },
      "execution_count": 15,
      "outputs": [
        {
          "output_type": "stream",
          "name": "stdout",
          "text": [
            "['__add__', '__class__', '__contains__', '__delattr__', '__dir__', '__doc__', '__eq__', '__format__', '__ge__', '__getattribute__', '__getitem__', '__getnewargs__', '__gt__', '__hash__', '__init__', '__init_subclass__', '__iter__', '__le__', '__len__', '__lt__', '__mod__', '__mul__', '__ne__', '__new__', '__reduce__', '__reduce_ex__', '__repr__', '__rmod__', '__rmul__', '__setattr__', '__sizeof__', '__str__', '__subclasshook__', 'capitalize', 'casefold', 'center', 'count', 'encode', 'endswith', 'expandtabs', 'find', 'format', 'format_map', 'index', 'isalnum', 'isalpha', 'isascii', 'isdecimal', 'isdigit', 'isidentifier', 'islower', 'isnumeric', 'isprintable', 'isspace', 'istitle', 'isupper', 'join', 'ljust', 'lower', 'lstrip', 'maketrans', 'partition', 'removeprefix', 'removesuffix', 'replace', 'rfind', 'rindex', 'rjust', 'rpartition', 'rsplit', 'rstrip', 'split', 'splitlines', 'startswith', 'strip', 'swapcase', 'title', 'translate', 'upper', 'zfill']\n"
          ]
        }
      ]
    },
    {
      "cell_type": "code",
      "source": [
        "a = 'Hello WOrld'\n",
        "b = a.lower()\n",
        "print(a, \"\\n\"+b)"
      ],
      "metadata": {
        "colab": {
          "base_uri": "https://localhost:8080/"
        },
        "id": "WXxf2OwSgckz",
        "outputId": "946c803c-137a-41e6-f46b-74bb420671bd"
      },
      "execution_count": 16,
      "outputs": [
        {
          "output_type": "stream",
          "name": "stdout",
          "text": [
            "Hello WOrld \n",
            "hello world\n"
          ]
        }
      ]
    },
    {
      "cell_type": "code",
      "source": [
        "a = 'Hello WOrld'\n",
        "b = a.upper()\n",
        "print(a, \"\\n\"+b)"
      ],
      "metadata": {
        "colab": {
          "base_uri": "https://localhost:8080/"
        },
        "id": "GJpXNjMigxN5",
        "outputId": "f6bdc688-bc76-41cf-fef1-67f608027594"
      },
      "execution_count": 17,
      "outputs": [
        {
          "output_type": "stream",
          "name": "stdout",
          "text": [
            "Hello WOrld \n",
            "HELLO WORLD\n"
          ]
        }
      ]
    },
    {
      "cell_type": "code",
      "source": [
        "a = 'Hello WOrld'\n",
        "b = a.title()\n",
        "print(a, \"\\n\"+b)"
      ],
      "metadata": {
        "colab": {
          "base_uri": "https://localhost:8080/"
        },
        "id": "SYV0BdMdgxQ1",
        "outputId": "3d447152-fd21-4cc6-d3e6-d076f783ed33"
      },
      "execution_count": 18,
      "outputs": [
        {
          "output_type": "stream",
          "name": "stdout",
          "text": [
            "Hello WOrld \n",
            "Hello World\n"
          ]
        }
      ]
    },
    {
      "cell_type": "code",
      "source": [
        "a = 'Hello WOrld'\n",
        "b = a.capitalize()\n",
        "print(a, \"\\n\"+b)"
      ],
      "metadata": {
        "colab": {
          "base_uri": "https://localhost:8080/"
        },
        "id": "xUft5gydgxTj",
        "outputId": "db2b8061-84d9-475e-a455-5b7a8f86314c"
      },
      "execution_count": 19,
      "outputs": [
        {
          "output_type": "stream",
          "name": "stdout",
          "text": [
            "Hello WOrld \n",
            "Hello world\n"
          ]
        }
      ]
    },
    {
      "cell_type": "code",
      "source": [
        "a = 'Hello WOrld'\n",
        "b = a.swapcase()\n",
        "print(a, \"\\n\"+b)"
      ],
      "metadata": {
        "colab": {
          "base_uri": "https://localhost:8080/"
        },
        "id": "mxEyVRXQgxWO",
        "outputId": "b8a777a5-ecee-44c3-f3f7-917a641a831d"
      },
      "execution_count": 20,
      "outputs": [
        {
          "output_type": "stream",
          "name": "stdout",
          "text": [
            "Hello WOrld \n",
            "hELLO woRLD\n"
          ]
        }
      ]
    },
    {
      "cell_type": "code",
      "source": [
        "a = 'Hello WOrld'\n",
        "b = a.center(50)\n",
        "print(a, \"\\n\"+b)"
      ],
      "metadata": {
        "colab": {
          "base_uri": "https://localhost:8080/"
        },
        "id": "gl8X0bf3gxY9",
        "outputId": "649b0940-a728-4a68-b947-d6d5d65f9503"
      },
      "execution_count": 21,
      "outputs": [
        {
          "output_type": "stream",
          "name": "stdout",
          "text": [
            "Hello WOrld \n",
            "                   Hello WOrld                    \n"
          ]
        }
      ]
    },
    {
      "cell_type": "code",
      "source": [
        "a = 'Hello WOrld'\n",
        "b = a.center(50, '*')\n",
        "print(a, \"\\n\"+b)"
      ],
      "metadata": {
        "colab": {
          "base_uri": "https://localhost:8080/"
        },
        "id": "v9GgHBxRgxcA",
        "outputId": "c46db076-dc3b-449e-f5c3-eae48dad960e"
      },
      "execution_count": 22,
      "outputs": [
        {
          "output_type": "stream",
          "name": "stdout",
          "text": [
            "Hello WOrld \n",
            "*******************Hello WOrld********************\n"
          ]
        }
      ]
    },
    {
      "cell_type": "code",
      "source": [
        "a = 'Hello WOrld'\n",
        "b = a.replace('Hello', 'hi')\n",
        "print(a, \"\\n\"+b)"
      ],
      "metadata": {
        "colab": {
          "base_uri": "https://localhost:8080/"
        },
        "id": "f7k-A-xugxfh",
        "outputId": "aecc0898-c5c5-4daa-aa15-3d428081e6f2"
      },
      "execution_count": 23,
      "outputs": [
        {
          "output_type": "stream",
          "name": "stdout",
          "text": [
            "Hello WOrld \n",
            "hi WOrld\n"
          ]
        }
      ]
    },
    {
      "cell_type": "code",
      "source": [
        "a='1223444'\n",
        "b=a.isdigit()\n",
        "print(b)"
      ],
      "metadata": {
        "colab": {
          "base_uri": "https://localhost:8080/"
        },
        "id": "ip1Vtb_LhsPs",
        "outputId": "31fe1b04-969b-4134-d266-a9cdc4b22602"
      },
      "execution_count": 24,
      "outputs": [
        {
          "output_type": "stream",
          "name": "stdout",
          "text": [
            "True\n"
          ]
        }
      ]
    },
    {
      "cell_type": "code",
      "source": [
        "a='charitha'\n",
        "b=a.isalpha()\n",
        "print(b)"
      ],
      "metadata": {
        "colab": {
          "base_uri": "https://localhost:8080/"
        },
        "id": "d4S9A63qhsSd",
        "outputId": "9a5c7057-353b-4732-80e1-006596e27f8b"
      },
      "execution_count": 27,
      "outputs": [
        {
          "output_type": "stream",
          "name": "stdout",
          "text": [
            "True\n"
          ]
        }
      ]
    },
    {
      "cell_type": "code",
      "source": [
        "text = \"Hello World! PYTHON Is fUn\"\n",
        "swap_text = text.swapcase()\n",
        "print(text)\n",
        "print(swap_text)"
      ],
      "metadata": {
        "colab": {
          "base_uri": "https://localhost:8080/"
        },
        "id": "7JyJv-4ZhsVZ",
        "outputId": "4df277d8-d53a-49e5-ae39-96913e6a7d8f"
      },
      "execution_count": 28,
      "outputs": [
        {
          "output_type": "stream",
          "name": "stdout",
          "text": [
            "Hello World! PYTHON Is fUn\n",
            "hELLO wORLD! python iS FuN\n"
          ]
        }
      ]
    },
    {
      "cell_type": "code",
      "source": [
        "r = range(10)\n",
        "print(r)\n",
        "my_list = list(r)\n",
        "print(my_list)"
      ],
      "metadata": {
        "colab": {
          "base_uri": "https://localhost:8080/"
        },
        "id": "oSWph9vdhsYe",
        "outputId": "a202f946-1879-4344-b2eb-77e0d4d54f10"
      },
      "execution_count": 29,
      "outputs": [
        {
          "output_type": "stream",
          "name": "stdout",
          "text": [
            "range(0, 10)\n",
            "[0, 1, 2, 3, 4, 5, 6, 7, 8, 9]\n"
          ]
        }
      ]
    },
    {
      "cell_type": "code",
      "source": [
        "my_list = list(range(5,16,2))\n",
        "print(my_list)"
      ],
      "metadata": {
        "colab": {
          "base_uri": "https://localhost:8080/"
        },
        "id": "46H4XGrlhsbo",
        "outputId": "aaa0b552-9a61-4cbb-d4af-2e3b45df3fab"
      },
      "execution_count": 30,
      "outputs": [
        {
          "output_type": "stream",
          "name": "stdout",
          "text": [
            "[5, 7, 9, 11, 13, 15]\n"
          ]
        }
      ]
    },
    {
      "cell_type": "code",
      "source": [
        "def calculate_sum(*args):\n",
        "    total = sum(args)\n",
        "    return total\n",
        "result = calculate_sum(1, 2, 3, 4, 5)\n",
        "print(result)"
      ],
      "metadata": {
        "colab": {
          "base_uri": "https://localhost:8080/"
        },
        "id": "QxHCIMiWhsek",
        "outputId": "61f94a35-c62a-4316-bd3c-ebb844a1cfd1"
      },
      "execution_count": 33,
      "outputs": [
        {
          "output_type": "stream",
          "name": "stdout",
          "text": [
            "15\n"
          ]
        }
      ]
    },
    {
      "cell_type": "code",
      "source": [
        "def discriminant(a,b,c):\n",
        "  return b**2 + 4*a*c\n",
        "\n",
        "def quadratic_solutions(a,b,c):\n",
        "  return (-b + discriminant(a,b,c)**0.5)/(2*a), (-b - discriminant(a,b,c)**0.5)/(2*a)\n",
        "\n",
        "a=int(input('Enter the coefficient of x^2'))\n",
        "b=int(input('Enter the coefficient of x'))\n",
        "c=int(input('Enter the constant term'))\n",
        "print(quadratic_solutions(a,b,c))"
      ],
      "metadata": {
        "colab": {
          "base_uri": "https://localhost:8080/"
        },
        "id": "NRzxn48chshm",
        "outputId": "ad6ce726-7481-42e6-b9c1-16e8f59266e1"
      },
      "execution_count": 36,
      "outputs": [
        {
          "output_type": "stream",
          "name": "stdout",
          "text": [
            "Enter the coefficient of x^21\n",
            "Enter the coefficient of x2\n",
            "Enter the constant term4\n",
            "(1.2360679774997898, -3.23606797749979)\n"
          ]
        }
      ]
    },
    {
      "cell_type": "code",
      "source": [
        "add = lambda x, y: x + y\n",
        "result = add(5, 3)\n",
        "print(result)"
      ],
      "metadata": {
        "colab": {
          "base_uri": "https://localhost:8080/"
        },
        "id": "sp3NC1kEhslS",
        "outputId": "bac1c765-2174-4bb3-963d-8eb9668e3591"
      },
      "execution_count": 37,
      "outputs": [
        {
          "output_type": "stream",
          "name": "stdout",
          "text": [
            "8\n"
          ]
        }
      ]
    },
    {
      "cell_type": "code",
      "source": [
        "user_name = 'john'\n",
        "password1 = '1234'\n",
        "def is_validate(username, password):\n",
        "  if username == user_name and password == password1:\n",
        "    print('Login Successful!')\n",
        "    return True\n",
        "  else:\n",
        "    print('Login Failed!')\n",
        "    return False\n",
        "username = input('Enter your username: ')\n",
        "password = input('Enter your password: ')\n",
        "while True:\n",
        "  if is_validate(username, password):\n",
        "    break\n",
        "  else:\n",
        "    username = input('Enter your username: ')\n",
        "    password = input('Enter your password: ')\n"
      ],
      "metadata": {
        "colab": {
          "base_uri": "https://localhost:8080/"
        },
        "id": "KMIM4JBZhsn0",
        "outputId": "05f6ccd4-2d41-4faa-acc9-1e818375d342"
      },
      "execution_count": 55,
      "outputs": [
        {
          "output_type": "stream",
          "name": "stdout",
          "text": [
            "Enter your username: johnny\n",
            "Enter your password: 1234\n",
            "Login Failed!\n",
            "Enter your username: john\n",
            "Enter your password: 1234\n",
            "Login Successful!\n"
          ]
        }
      ]
    },
    {
      "cell_type": "code",
      "source": [
        "user = 'john'\n",
        "pwd = '1234'\n",
        "\n",
        "def is_validate_username(username):\n",
        "    if username != user:\n",
        "        print(\"User Name is not correct\")\n",
        "        # Return False to indicate an invalid username\n",
        "        return False\n",
        "    else:\n",
        "        return True\n",
        "\n",
        "def is_validate_password(password):\n",
        "    if password != pwd:\n",
        "        print(\"Password is not correct\")\n",
        "        # Return False to indicate an invalid password\n",
        "        return False\n",
        "    else:\n",
        "        return True\n",
        "\n",
        "def is_validate(username, password):\n",
        "    if is_validate_username(username):\n",
        "        if is_validate_password(password):\n",
        "            print('Login Successful')\n",
        "            return True\n",
        "        else:\n",
        "            return False\n",
        "    return False\n",
        "\n",
        "# Initialize username and password outside the loop to avoid NameError\n",
        "username = input('Enter your username: ')\n",
        "password = input('Enter your password: ')\n",
        "\n",
        "while True:\n",
        "    if is_validate(username, password):\n",
        "        break\n",
        "    else:\n",
        "        username = input('Enter your username: ')\n",
        "        password = input('Enter your password: ')"
      ],
      "metadata": {
        "colab": {
          "base_uri": "https://localhost:8080/"
        },
        "id": "RAX4YOiWhsqz",
        "outputId": "5c4a6575-8908-4606-f0ac-734bea834a72"
      },
      "execution_count": null,
      "outputs": [
        {
          "output_type": "stream",
          "name": "stdout",
          "text": [
            "Enter your username: john\n",
            "Enter your password: 12345678\n",
            "Password is not correct\n",
            "Enter your username: ravi\n",
            "Enter your password: 1234\n",
            "User Name is not correct\n"
          ]
        }
      ]
    }
  ]
}